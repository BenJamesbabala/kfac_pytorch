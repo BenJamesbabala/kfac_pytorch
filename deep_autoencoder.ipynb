{
 "cells": [
  {
   "cell_type": "code",
   "execution_count": 40,
   "metadata": {
    "collapsed": true
   },
   "outputs": [],
   "source": [
    "import os\n",
    "import sys\n",
    "import util as u\n",
    "import matplotlib.pyplot as plt\n",
    "import torch.nn.functional as F"
   ]
  },
  {
   "cell_type": "markdown",
   "metadata": {},
   "source": [
    "# Deep autoencoder"
   ]
  },
  {
   "cell_type": "markdown",
   "metadata": {},
   "source": [
    "Optimize the following sigmoid autoencoder on first 10k MNIST examples, evaluate on second 10k \n",
    "\n",
    "![deep autoencoder](https://i.stack.imgur.com/f09ot.png)"
   ]
  },
  {
   "cell_type": "markdown",
   "metadata": {},
   "source": [
    "# Short run"
   ]
  },
  {
   "cell_type": "code",
   "execution_count": 105,
   "metadata": {},
   "outputs": [],
   "source": [
    "import kfac_pytorch as kfac_lib"
   ]
  },
  {
   "cell_type": "code",
   "execution_count": 107,
   "metadata": {},
   "outputs": [
    {
     "name": "stdout",
     "output_type": "stream",
     "text": [
      "Step   0 loss 97.542419434\n",
      "Step   1 loss 32.184158325\n",
      "Step   2 loss 31.059148788\n",
      "Step   3 loss 30.073652267\n",
      "Step   4 loss 28.751443863\n",
      "Step   5 loss 28.019514084\n",
      "Step   6 loss 27.574556351\n",
      "Step   7 loss 27.251935959\n",
      "Step   8 loss 27.024274826\n",
      "Step   9 loss 26.863992691\n",
      "Times: min: 87.59, median: 88.08, mean: 1256.60\n"
     ]
    }
   ],
   "source": [
    "losses_adam, vlosses_adam = kfac_lib.train(iters=10, kfac=False, print_interval=1)\n",
    "u.summarize_time()"
   ]
  },
  {
   "cell_type": "code",
   "execution_count": 106,
   "metadata": {},
   "outputs": [
    {
     "name": "stdout",
     "output_type": "stream",
     "text": [
      "Step   0 loss 97.542419434\n",
      "Step   1 loss 62.339828491\n",
      "Step   2 loss 44.860393524\n",
      "Step   3 loss 79.031013489\n",
      "Step   4 loss 56.055324554\n",
      "Step   5 loss 48.206447601\n",
      "Step   6 loss 43.934066772\n",
      "Step   7 loss 40.302700043\n",
      "Step   8 loss 38.371196747\n",
      "Step   9 loss 38.781795502\n",
      "Times: min: 384.54, median: 388.57, mean: 1689.78\n"
     ]
    }
   ],
   "source": [
    "losses_adam, vlosses_adam = kfac_lib.train(iters=10, kfac=True, print_interval=1)\n",
    "u.summarize_time()"
   ]
  },
  {
   "cell_type": "markdown",
   "metadata": {},
   "source": [
    "# Long run"
   ]
  },
  {
   "cell_type": "markdown",
   "metadata": {},
   "source": [
    "python run_experiments.py"
   ]
  },
  {
   "cell_type": "code",
   "execution_count": 109,
   "metadata": {},
   "outputs": [
    {
     "data": {
      "text/plain": [
       "<matplotlib.figure.Figure at 0x7fb2c206bcc0>"
      ]
     },
     "metadata": {},
     "output_type": "display_data"
    },
    {
     "data": {
      "image/png": "[encoded data removed]",
      "text/plain": [
       "<matplotlib.figure.Figure at 0x7fb2c42b1e10>"
      ]
     },
     "metadata": {},
     "output_type": "display_data"
    }
   ],
   "source": [
    "def plotit(fn, label, subsample=1):\n",
    "  vals = np.loadtxt('data/'+fn+\".csv\", delimiter=\",\")\n",
    "  vals = vals[::subsample]\n",
    "  plt.plot(vals, label=label)\n",
    "  \n",
    "import numpy as np\n",
    "import matplotlib.pyplot as plt\n",
    "\n",
    "plt.figure()\n",
    "plotit('losses_sgd_kfac', 'kfac')\n",
    "plotit('losses_sgd', 'sgd', 4)\n",
    "plotit('losses_adam', 'adam', 4)\n",
    "\n",
    "plt.xlabel('time')\n",
    "plt.ylabel('loss')\n",
    "plt.title('train loss')\n",
    "\n",
    "plt.legend()\n",
    "plt.show()"
   ]
  },
  {
   "cell_type": "code",
   "execution_count": 110,
   "metadata": {},
   "outputs": [
    {
     "data": {
      "image/png": "[encoded data removed]",
      "text/plain": [
       "<matplotlib.figure.Figure at 0x7fb2c1fdc0b8>"
      ]
     },
     "metadata": {},
     "output_type": "display_data"
    }
   ],
   "source": [
    "plt.figure()\n",
    "plotit('vlosses_sgd_kfac', 'kfac')\n",
    "plotit('vlosses_sgd', 'sgd', 4)\n",
    "plotit('vlosses_adam', 'adam', 4)\n",
    "\n",
    "plt.xlabel('time')\n",
    "plt.ylabel('loss')\n",
    "plt.title('test loss')\n",
    "\n",
    "plt.legend()\n",
    "plt.show()"
   ]
  },
  {
   "cell_type": "markdown",
   "metadata": {},
   "source": [
    "- final test loss is higher for KFAC (8.48 Adam vs 9.4 KFAC)\n",
    "- KFAC takes 100x less iteration\n",
    "- KFAC takes 25x less wall-clock time"
   ]
  }
 ],
 "metadata": {
  "kernelspec": {
   "display_name": "Python 3",
   "language": "python",
   "name": "python3"
  },
  "language_info": {
   "codemirror_mode": {
    "name": "ipython",
    "version": 3
   },
   "file_extension": ".py",
   "mimetype": "text/x-python",
   "name": "python",
   "nbconvert_exporter": "python",
   "pygments_lexer": "ipython3",
   "version": "3.5.4"
  },
  "toc": {
   "nav_menu": {},
   "number_sections": true,
   "sideBar": true,
   "skip_h1_title": false,
   "toc_cell": false,
   "toc_position": {},
   "toc_section_display": "block",
   "toc_window_display": true
  }
 },
 "nbformat": 4,
 "nbformat_minor": 2
}
